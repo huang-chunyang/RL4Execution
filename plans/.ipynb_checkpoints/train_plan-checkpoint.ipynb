{
 "cells": [
  {
   "cell_type": "code",
   "execution_count": 2,
   "id": "5b7695f4-54a0-45c9-bc51-a49b05a5ed31",
   "metadata": {},
   "outputs": [],
   "source": [
    "import aqdatac\n",
    "aqdatac.login('huangchunyang', password='20020308hd')"
   ]
  },
  {
   "cell_type": "code",
   "execution_count": 3,
   "id": "2bdf7a2c-a1be-4fbe-becb-3396a83cb31c",
   "metadata": {},
   "outputs": [
    {
     "name": "stdout",
     "output_type": "stream",
     "text": [
      "aqdatac: version 0.2.3\n",
      "current user: huangchunyang\n",
      "current session expires at: 2024-07-25 16:29:25\n"
     ]
    }
   ],
   "source": [
    "aqdatac.current_session()"
   ]
  },
  {
   "cell_type": "code",
   "execution_count": 4,
   "id": "4fe17c39-f614-473d-940e-6a1d5db9b731",
   "metadata": {},
   "outputs": [
    {
     "data": {
      "text/plain": [
       "{'aindexcsi500weight': ['*'],\n",
       " 'aindexhs300closeweight': ['*'],\n",
       " 'aindexhs300freeweight': ['*'],\n",
       " 'ashareeodprices': ['2009-01-01, 2019-12-31'],\n",
       " 'cftick': ['2019-01-01,2019-07-01'],\n",
       " 'cfuturescalendar': ['*'],\n",
       " 'chinaetfpchredmlist': ['*'],\n",
       " 'chinaetfpchredmmembers': ['*'],\n",
       " 'csbar_1d': ['2009-01-01, 2019-12-31'],\n",
       " 'csbar_30m': ['2015-01-01, 2019-12-31'],\n",
       " 'csdate': ['*'],\n",
       " 'csinfo': ['*'],\n",
       " 'csord': ['2019-01-01,2019-07-01'],\n",
       " 'cstick': ['2019-01-01,2019-07-01'],\n",
       " 'cstra': ['2019-01-01,2019-07-01']}"
      ]
     },
     "execution_count": 4,
     "metadata": {},
     "output_type": "execute_result"
    }
   ],
   "source": [
    "aqdatac.accessible_tables()"
   ]
  },
  {
   "cell_type": "code",
   "execution_count": 5,
   "id": "8d92cd30-68d1-409a-83e9-9dc48a0bdb03",
   "metadata": {},
   "outputs": [],
   "source": [
    "df = aqdatac.get_data(\"csinfo\",row_filter=\"producttype='a'\") "
   ]
  },
  {
   "cell_type": "code",
   "execution_count": 13,
   "id": "c8f17d51-10be-4030-af5e-7914955faab8",
   "metadata": {},
   "outputs": [],
   "source": [
    "df = df[df['status'] == 'active']"
   ]
  },
  {
   "cell_type": "code",
   "execution_count": 14,
   "id": "25f1a228-5b04-4754-bc58-26590e18c131",
   "metadata": {},
   "outputs": [
    {
     "data": {
      "text/html": [
       "<div>\n",
       "<style scoped>\n",
       "    .dataframe tbody tr th:only-of-type {\n",
       "        vertical-align: middle;\n",
       "    }\n",
       "\n",
       "    .dataframe tbody tr th {\n",
       "        vertical-align: top;\n",
       "    }\n",
       "\n",
       "    .dataframe thead th {\n",
       "        text-align: right;\n",
       "    }\n",
       "</style>\n",
       "<table border=\"1\" class=\"dataframe\">\n",
       "  <thead>\n",
       "    <tr style=\"text-align: right;\">\n",
       "      <th></th>\n",
       "      <th>sym</th>\n",
       "      <th>name</th>\n",
       "      <th>producttype</th>\n",
       "      <th>status</th>\n",
       "      <th>listeddate</th>\n",
       "      <th>delisteddate</th>\n",
       "      <th>issue_price</th>\n",
       "    </tr>\n",
       "  </thead>\n",
       "  <tbody>\n",
       "    <tr>\n",
       "      <th>0</th>\n",
       "      <td>000001.SZ</td>\n",
       "      <td>平安银行</td>\n",
       "      <td>a</td>\n",
       "      <td>active</td>\n",
       "      <td>1991-04-03</td>\n",
       "      <td>&lt;NA&gt;</td>\n",
       "      <td>40.0</td>\n",
       "    </tr>\n",
       "    <tr>\n",
       "      <th>1</th>\n",
       "      <td>000002.SZ</td>\n",
       "      <td>万科A</td>\n",
       "      <td>a</td>\n",
       "      <td>active</td>\n",
       "      <td>1991-01-29</td>\n",
       "      <td>&lt;NA&gt;</td>\n",
       "      <td>1.0</td>\n",
       "    </tr>\n",
       "    <tr>\n",
       "      <th>3</th>\n",
       "      <td>000004.SZ</td>\n",
       "      <td>国华网安</td>\n",
       "      <td>a</td>\n",
       "      <td>active</td>\n",
       "      <td>1990-12-01</td>\n",
       "      <td>&lt;NA&gt;</td>\n",
       "      <td>1.0</td>\n",
       "    </tr>\n",
       "    <tr>\n",
       "      <th>4</th>\n",
       "      <td>000005.SZ</td>\n",
       "      <td>ST星源</td>\n",
       "      <td>a</td>\n",
       "      <td>active</td>\n",
       "      <td>1990-12-10</td>\n",
       "      <td>&lt;NA&gt;</td>\n",
       "      <td>10.0</td>\n",
       "    </tr>\n",
       "    <tr>\n",
       "      <th>5</th>\n",
       "      <td>000006.SZ</td>\n",
       "      <td>深振业A</td>\n",
       "      <td>a</td>\n",
       "      <td>active</td>\n",
       "      <td>1992-04-27</td>\n",
       "      <td>&lt;NA&gt;</td>\n",
       "      <td>10.0</td>\n",
       "    </tr>\n",
       "    <tr>\n",
       "      <th>...</th>\n",
       "      <td>...</td>\n",
       "      <td>...</td>\n",
       "      <td>...</td>\n",
       "      <td>...</td>\n",
       "      <td>...</td>\n",
       "      <td>...</td>\n",
       "      <td>...</td>\n",
       "    </tr>\n",
       "    <tr>\n",
       "      <th>5353</th>\n",
       "      <td>688799.SH</td>\n",
       "      <td>华纳药厂</td>\n",
       "      <td>a</td>\n",
       "      <td>active</td>\n",
       "      <td>2021-07-13</td>\n",
       "      <td>&lt;NA&gt;</td>\n",
       "      <td>30.82</td>\n",
       "    </tr>\n",
       "    <tr>\n",
       "      <th>5354</th>\n",
       "      <td>688800.SH</td>\n",
       "      <td>瑞可达</td>\n",
       "      <td>a</td>\n",
       "      <td>active</td>\n",
       "      <td>2021-07-22</td>\n",
       "      <td>&lt;NA&gt;</td>\n",
       "      <td>15.02</td>\n",
       "    </tr>\n",
       "    <tr>\n",
       "      <th>5355</th>\n",
       "      <td>688819.SH</td>\n",
       "      <td>天能股份</td>\n",
       "      <td>a</td>\n",
       "      <td>active</td>\n",
       "      <td>2021-01-18</td>\n",
       "      <td>&lt;NA&gt;</td>\n",
       "      <td>41.79</td>\n",
       "    </tr>\n",
       "    <tr>\n",
       "      <th>5356</th>\n",
       "      <td>688981.SH</td>\n",
       "      <td>中芯国际</td>\n",
       "      <td>a</td>\n",
       "      <td>active</td>\n",
       "      <td>2020-07-16</td>\n",
       "      <td>&lt;NA&gt;</td>\n",
       "      <td>27.46</td>\n",
       "    </tr>\n",
       "    <tr>\n",
       "      <th>5357</th>\n",
       "      <td>689009.SH</td>\n",
       "      <td>九号公司</td>\n",
       "      <td>a</td>\n",
       "      <td>active</td>\n",
       "      <td>2020-10-29</td>\n",
       "      <td>&lt;NA&gt;</td>\n",
       "      <td>18.94</td>\n",
       "    </tr>\n",
       "  </tbody>\n",
       "</table>\n",
       "<p>5102 rows × 7 columns</p>\n",
       "</div>"
      ],
      "text/plain": [
       "            sym  name producttype  status  listeddate delisteddate  \\\n",
       "0     000001.SZ  平安银行           a  active  1991-04-03         <NA>   \n",
       "1     000002.SZ   万科A           a  active  1991-01-29         <NA>   \n",
       "3     000004.SZ  国华网安           a  active  1990-12-01         <NA>   \n",
       "4     000005.SZ  ST星源           a  active  1990-12-10         <NA>   \n",
       "5     000006.SZ  深振业A           a  active  1992-04-27         <NA>   \n",
       "...         ...   ...         ...     ...         ...          ...   \n",
       "5353  688799.SH  华纳药厂           a  active  2021-07-13         <NA>   \n",
       "5354  688800.SH   瑞可达           a  active  2021-07-22         <NA>   \n",
       "5355  688819.SH  天能股份           a  active  2021-01-18         <NA>   \n",
       "5356  688981.SH  中芯国际           a  active  2020-07-16         <NA>   \n",
       "5357  689009.SH  九号公司           a  active  2020-10-29         <NA>   \n",
       "\n",
       "      issue_price  \n",
       "0            40.0  \n",
       "1             1.0  \n",
       "3             1.0  \n",
       "4            10.0  \n",
       "5            10.0  \n",
       "...           ...  \n",
       "5353        30.82  \n",
       "5354        15.02  \n",
       "5355        41.79  \n",
       "5356        27.46  \n",
       "5357        18.94  \n",
       "\n",
       "[5102 rows x 7 columns]"
      ]
     },
     "execution_count": 14,
     "metadata": {},
     "output_type": "execute_result"
    }
   ],
   "source": [
    "df"
   ]
  }
 ],
 "metadata": {
  "kernelspec": {
   "display_name": "Python [conda env:py310]",
   "language": "python",
   "name": "conda-env-py310-py"
  },
  "language_info": {
   "codemirror_mode": {
    "name": "ipython",
    "version": 3
   },
   "file_extension": ".py",
   "mimetype": "text/x-python",
   "name": "python",
   "nbconvert_exporter": "python",
   "pygments_lexer": "ipython3",
   "version": "3.10.14"
  }
 },
 "nbformat": 4,
 "nbformat_minor": 5
}
