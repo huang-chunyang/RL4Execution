{
 "cells": [
  {
   "cell_type": "markdown",
   "id": "7f56bed6-c96f-4469-8cf1-81bcd17dd73e",
   "metadata": {},
   "source": [
    "# 总结\n",
    "这个notebook 是尝试train.csv 文件的，这来自于真实的交易行为"
   ]
  },
  {
   "cell_type": "code",
   "execution_count": 1,
   "id": "5c28f6b7-784d-4d5f-894d-f00193abf029",
   "metadata": {},
   "outputs": [],
   "source": [
    "import pandas as pd\n",
    "import numpy as np\n",
    "from datetime import datetime\n",
    "csv_path = \"./train.csv\"\n",
    "train_set = pd.read_csv(csv_path)"
   ]
  },
  {
   "cell_type": "code",
   "execution_count": 2,
   "id": "ca92920b-c227-4ee7-908d-b43d9b93d8ba",
   "metadata": {},
   "outputs": [
    {
     "data": {
      "text/html": [
       "<div>\n",
       "<style scoped>\n",
       "    .dataframe tbody tr th:only-of-type {\n",
       "        vertical-align: middle;\n",
       "    }\n",
       "\n",
       "    .dataframe tbody tr th {\n",
       "        vertical-align: top;\n",
       "    }\n",
       "\n",
       "    .dataframe thead th {\n",
       "        text-align: right;\n",
       "    }\n",
       "</style>\n",
       "<table border=\"1\" class=\"dataframe\">\n",
       "  <thead>\n",
       "    <tr style=\"text-align: right;\">\n",
       "      <th></th>\n",
       "      <th>date</th>\n",
       "      <th>sym</th>\n",
       "      <th>side</th>\n",
       "      <th>start-time</th>\n",
       "      <th>end-time</th>\n",
       "      <th>volume</th>\n",
       "    </tr>\n",
       "  </thead>\n",
       "  <tbody>\n",
       "    <tr>\n",
       "      <th>0</th>\n",
       "      <td>2023/8/29</td>\n",
       "      <td>000030.SZ</td>\n",
       "      <td>SELL</td>\n",
       "      <td>z 09:30:00</td>\n",
       "      <td>z 09:39:30</td>\n",
       "      <td>184100</td>\n",
       "    </tr>\n",
       "    <tr>\n",
       "      <th>1</th>\n",
       "      <td>2023/8/29</td>\n",
       "      <td>000423.SZ</td>\n",
       "      <td>BUY</td>\n",
       "      <td>z 09:30:00</td>\n",
       "      <td>z 09:40:00</td>\n",
       "      <td>9100</td>\n",
       "    </tr>\n",
       "    <tr>\n",
       "      <th>2</th>\n",
       "      <td>2023/8/29</td>\n",
       "      <td>000537.SZ</td>\n",
       "      <td>BUY</td>\n",
       "      <td>z 09:30:00</td>\n",
       "      <td>z 09:40:00</td>\n",
       "      <td>25800</td>\n",
       "    </tr>\n",
       "    <tr>\n",
       "      <th>3</th>\n",
       "      <td>2023/8/29</td>\n",
       "      <td>000538.SZ</td>\n",
       "      <td>SELL</td>\n",
       "      <td>z 09:30:00</td>\n",
       "      <td>z 09:39:30</td>\n",
       "      <td>31700</td>\n",
       "    </tr>\n",
       "    <tr>\n",
       "      <th>4</th>\n",
       "      <td>2023/8/29</td>\n",
       "      <td>000612.SZ</td>\n",
       "      <td>BUY</td>\n",
       "      <td>z 09:30:00</td>\n",
       "      <td>z 09:40:00</td>\n",
       "      <td>86100</td>\n",
       "    </tr>\n",
       "    <tr>\n",
       "      <th>...</th>\n",
       "      <td>...</td>\n",
       "      <td>...</td>\n",
       "      <td>...</td>\n",
       "      <td>...</td>\n",
       "      <td>...</td>\n",
       "      <td>...</td>\n",
       "    </tr>\n",
       "    <tr>\n",
       "      <th>461</th>\n",
       "      <td>2023/9/4</td>\n",
       "      <td>688685.SH</td>\n",
       "      <td>BUY</td>\n",
       "      <td>z 09:30:00</td>\n",
       "      <td>z 09:40:00</td>\n",
       "      <td>10700</td>\n",
       "    </tr>\n",
       "    <tr>\n",
       "      <th>462</th>\n",
       "      <td>2023/9/4</td>\n",
       "      <td>688698.SH</td>\n",
       "      <td>SELL</td>\n",
       "      <td>z 09:30:00</td>\n",
       "      <td>z 09:39:30</td>\n",
       "      <td>4300</td>\n",
       "    </tr>\n",
       "    <tr>\n",
       "      <th>463</th>\n",
       "      <td>2023/9/4</td>\n",
       "      <td>688737.SH</td>\n",
       "      <td>BUY</td>\n",
       "      <td>z 09:30:00</td>\n",
       "      <td>z 09:40:00</td>\n",
       "      <td>3800</td>\n",
       "    </tr>\n",
       "    <tr>\n",
       "      <th>464</th>\n",
       "      <td>2023/9/4</td>\n",
       "      <td>688772.SH</td>\n",
       "      <td>BUY</td>\n",
       "      <td>z 09:30:00</td>\n",
       "      <td>z 09:40:00</td>\n",
       "      <td>15500</td>\n",
       "    </tr>\n",
       "    <tr>\n",
       "      <th>465</th>\n",
       "      <td>2023/9/4</td>\n",
       "      <td>688777.SH</td>\n",
       "      <td>SELL</td>\n",
       "      <td>z 09:30:00</td>\n",
       "      <td>z 09:39:30</td>\n",
       "      <td>1600</td>\n",
       "    </tr>\n",
       "  </tbody>\n",
       "</table>\n",
       "<p>466 rows × 6 columns</p>\n",
       "</div>"
      ],
      "text/plain": [
       "          date        sym  side  start-time    end-time  volume\n",
       "0    2023/8/29  000030.SZ  SELL  z 09:30:00  z 09:39:30  184100\n",
       "1    2023/8/29  000423.SZ   BUY  z 09:30:00  z 09:40:00    9100\n",
       "2    2023/8/29  000537.SZ   BUY  z 09:30:00  z 09:40:00   25800\n",
       "3    2023/8/29  000538.SZ  SELL  z 09:30:00  z 09:39:30   31700\n",
       "4    2023/8/29  000612.SZ   BUY  z 09:30:00  z 09:40:00   86100\n",
       "..         ...        ...   ...         ...         ...     ...\n",
       "461   2023/9/4  688685.SH   BUY  z 09:30:00  z 09:40:00   10700\n",
       "462   2023/9/4  688698.SH  SELL  z 09:30:00  z 09:39:30    4300\n",
       "463   2023/9/4  688737.SH   BUY  z 09:30:00  z 09:40:00    3800\n",
       "464   2023/9/4  688772.SH   BUY  z 09:30:00  z 09:40:00   15500\n",
       "465   2023/9/4  688777.SH  SELL  z 09:30:00  z 09:39:30    1600\n",
       "\n",
       "[466 rows x 6 columns]"
      ]
     },
     "execution_count": 2,
     "metadata": {},
     "output_type": "execute_result"
    }
   ],
   "source": [
    "train_set"
   ]
  },
  {
   "cell_type": "code",
   "execution_count": 14,
   "id": "a133af79-00f7-4adf-9eb0-ac45c8752db4",
   "metadata": {},
   "outputs": [],
   "source": [
    "train_sell_set = train_set[train_set['side']=='SELL']\n",
    "train_sell_set.to_csv('./train_sell.csv')"
   ]
  },
  {
   "cell_type": "code",
   "execution_count": 8,
   "id": "6f2013a7-3823-4541-9180-bc3e705f7375",
   "metadata": {},
   "outputs": [],
   "source": [
    "volume_list = []\n",
    "for row in train_set.iterrows():\n",
    "    if row[1]['side'] != 'SELL':\n",
    "        continue\n",
    "    date, sym, side, start_time, end_time, volume = adjust_row(row)\n",
    "    volume_list.append(volume)"
   ]
  },
  {
   "cell_type": "code",
   "execution_count": 12,
   "id": "ee4ce4fa-a39f-4be5-98b6-823a6eac5b48",
   "metadata": {},
   "outputs": [
    {
     "data": {
      "text/plain": [
       "(array([203.,  27.,   4.,   4.,   1.,   1.,   0.,   0.,   0.,   1.]),\n",
       " array([1.00000e+02, 1.19890e+05, 2.39680e+05, 3.59470e+05, 4.79260e+05,\n",
       "        5.99050e+05, 7.18840e+05, 8.38630e+05, 9.58420e+05, 1.07821e+06,\n",
       "        1.19800e+06]),\n",
       " <BarContainer object of 10 artists>)"
      ]
     },
     "execution_count": 12,
     "metadata": {},
     "output_type": "execute_result"
    },
    {
     "data": {
      "image/png": "[encoded data removed]",
      "text/plain": [
       "<Figure size 640x480 with 1 Axes>"
      ]
     },
     "metadata": {},
     "output_type": "display_data"
    }
   ],
   "source": [
    "from matplotlib import pyplot as plt\n",
    "adjust_list = [volume for volume in volume_list if volume < 1e6]\n",
    "plt.hist(volume_list)\n"
   ]
  },
  {
   "cell_type": "code",
   "execution_count": 4,
   "id": "1bc8ee3c-edb7-427e-bcd1-27ed6295577b",
   "metadata": {},
   "outputs": [],
   "source": [
    "def convert_time_format(time_str):\n",
    "    # 去掉前面的 'z ' 并去掉冒号\n",
    "    time_str = time_str[2:].replace(':', '') + '0000'\n",
    "    # 去掉开头的 '0'\n",
    "    return time_str.lstrip('0')\n",
    "def formate_date(date):\n",
    "    '''\n",
    "    input: date(example: '2023/8/29')\n",
    "    output: date(example: '20230829')\n",
    "    '''\n",
    "    date_obj = datetime.strptime(date, '%Y/%m/%d')\n",
    "    formatted_date_str = date_obj.strftime('%Y%m%d')\n",
    "    return formatted_date_str\n",
    "def adjust_row(row):\n",
    "    sample = row[1]\n",
    "    date = formate_date(sample['date'])\n",
    "    sym = sample['sym']\n",
    "    side = sample['side'].lower()\n",
    "    start_time = convert_time_format(sample['start-time'])\n",
    "    end_time = convert_time_format(sample['end-time'])\n",
    "    volume = sample['volume']\n",
    "    return date, sym, side, start_time, end_time, volume\n",
    "\n",
    "# command_temple = 'python3 run_bond_momentum_app.py --inst {} --td {} --start_time {} --end_time {} --volume {} --direction {}'\n",
    "# for i, row_ in enumerate(test_df.iterrows()):\n",
    "#     # print(row)\n",
    "#     row = row_[1]\n",
    "#     date = formate_date(row['date'])\n",
    "#     sym = row['sym']\n",
    "#     side = row['side'].lower()\n",
    "#     start_time = convert_time_format(row['start-time'])\n",
    "#     end_time = convert_time_format(row['end-time'])\n",
    "#     volume = row['volume']\n",
    "#     print(date, sym, side, start_time, end_time, volume)\n",
    "#     command = command_temple.format(sym, date, start_time, end_time, volume, side)\n",
    "#     print(command)\n",
    "#     result = subprocess.run(command, shell=True, capture_output=True, text=True)\n",
    "#     print(result)\n",
    "#     if i > 2: \n",
    "#         break"
   ]
  }
 ],
 "metadata": {
  "kernelspec": {
   "display_name": "Python [conda env:py310]",
   "language": "python",
   "name": "conda-env-py310-py"
  },
  "language_info": {
   "codemirror_mode": {
    "name": "ipython",
    "version": 3
   },
   "file_extension": ".py",
   "mimetype": "text/x-python",
   "name": "python",
   "nbconvert_exporter": "python",
   "pygments_lexer": "ipython3",
   "version": "3.10.14"
  }
 },
 "nbformat": 4,
 "nbformat_minor": 5
}
