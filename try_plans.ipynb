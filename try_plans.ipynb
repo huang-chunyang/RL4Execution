{
 "cells": [
  {
   "cell_type": "code",
   "execution_count": 1,
   "id": "4c483462-da3f-4a2f-a4b9-40a538b99ff6",
   "metadata": {},
   "outputs": [],
   "source": [
    "import pandas as pd"
   ]
  },
  {
   "cell_type": "code",
   "execution_count": 2,
   "id": "780a2a33-035c-41b0-9613-4533f5575eae",
   "metadata": {},
   "outputs": [],
   "source": [
    "a = pd.read_csv('./plans/train_set.csv')"
   ]
  },
  {
   "cell_type": "code",
   "execution_count": 3,
   "id": "d65c6fa7-957f-4f30-958c-1dfd8078b644",
   "metadata": {},
   "outputs": [
    {
     "data": {
      "text/html": [
       "<div>\n",
       "<style scoped>\n",
       "    .dataframe tbody tr th:only-of-type {\n",
       "        vertical-align: middle;\n",
       "    }\n",
       "\n",
       "    .dataframe tbody tr th {\n",
       "        vertical-align: top;\n",
       "    }\n",
       "\n",
       "    .dataframe thead th {\n",
       "        text-align: right;\n",
       "    }\n",
       "</style>\n",
       "<table border=\"1\" class=\"dataframe\">\n",
       "  <thead>\n",
       "    <tr style=\"text-align: right;\">\n",
       "      <th></th>\n",
       "      <th>Unnamed: 0</th>\n",
       "      <th>date</th>\n",
       "      <th>sym</th>\n",
       "      <th>volume</th>\n",
       "      <th>volume_prev_5d_avg</th>\n",
       "    </tr>\n",
       "  </thead>\n",
       "  <tbody>\n",
       "    <tr>\n",
       "      <th>0</th>\n",
       "      <td>0</td>\n",
       "      <td>2019-05-07</td>\n",
       "      <td>000001.SZ</td>\n",
       "      <td>26732606.0</td>\n",
       "      <td>7.269096e+07</td>\n",
       "    </tr>\n",
       "    <tr>\n",
       "      <th>1</th>\n",
       "      <td>1</td>\n",
       "      <td>2019-05-08</td>\n",
       "      <td>000001.SZ</td>\n",
       "      <td>32095151.0</td>\n",
       "      <td>4.971178e+07</td>\n",
       "    </tr>\n",
       "    <tr>\n",
       "      <th>2</th>\n",
       "      <td>2</td>\n",
       "      <td>2019-05-09</td>\n",
       "      <td>000001.SZ</td>\n",
       "      <td>29040734.0</td>\n",
       "      <td>4.383957e+07</td>\n",
       "    </tr>\n",
       "    <tr>\n",
       "      <th>3</th>\n",
       "      <td>3</td>\n",
       "      <td>2019-05-10</td>\n",
       "      <td>000001.SZ</td>\n",
       "      <td>33375719.0</td>\n",
       "      <td>4.013986e+07</td>\n",
       "    </tr>\n",
       "    <tr>\n",
       "      <th>4</th>\n",
       "      <td>4</td>\n",
       "      <td>2019-05-13</td>\n",
       "      <td>000001.SZ</td>\n",
       "      <td>21222149.0</td>\n",
       "      <td>3.878703e+07</td>\n",
       "    </tr>\n",
       "    <tr>\n",
       "      <th>...</th>\n",
       "      <td>...</td>\n",
       "      <td>...</td>\n",
       "      <td>...</td>\n",
       "      <td>...</td>\n",
       "      <td>...</td>\n",
       "    </tr>\n",
       "    <tr>\n",
       "      <th>1863</th>\n",
       "      <td>1863</td>\n",
       "      <td>2019-05-27</td>\n",
       "      <td>603019.SH</td>\n",
       "      <td>5025815.0</td>\n",
       "      <td>1.161657e+07</td>\n",
       "    </tr>\n",
       "    <tr>\n",
       "      <th>1864</th>\n",
       "      <td>1864</td>\n",
       "      <td>2019-05-28</td>\n",
       "      <td>603019.SH</td>\n",
       "      <td>8540541.0</td>\n",
       "      <td>9.563376e+06</td>\n",
       "    </tr>\n",
       "    <tr>\n",
       "      <th>1865</th>\n",
       "      <td>1865</td>\n",
       "      <td>2019-05-29</td>\n",
       "      <td>603019.SH</td>\n",
       "      <td>5770562.0</td>\n",
       "      <td>9.594306e+06</td>\n",
       "    </tr>\n",
       "    <tr>\n",
       "      <th>1866</th>\n",
       "      <td>1866</td>\n",
       "      <td>2019-05-30</td>\n",
       "      <td>603019.SH</td>\n",
       "      <td>5809780.0</td>\n",
       "      <td>8.336060e+06</td>\n",
       "    </tr>\n",
       "    <tr>\n",
       "      <th>1867</th>\n",
       "      <td>1867</td>\n",
       "      <td>2019-05-31</td>\n",
       "      <td>603019.SH</td>\n",
       "      <td>3694272.0</td>\n",
       "      <td>6.548808e+06</td>\n",
       "    </tr>\n",
       "  </tbody>\n",
       "</table>\n",
       "<p>1868 rows × 5 columns</p>\n",
       "</div>"
      ],
      "text/plain": [
       "      Unnamed: 0        date        sym      volume  volume_prev_5d_avg\n",
       "0              0  2019-05-07  000001.SZ  26732606.0        7.269096e+07\n",
       "1              1  2019-05-08  000001.SZ  32095151.0        4.971178e+07\n",
       "2              2  2019-05-09  000001.SZ  29040734.0        4.383957e+07\n",
       "3              3  2019-05-10  000001.SZ  33375719.0        4.013986e+07\n",
       "4              4  2019-05-13  000001.SZ  21222149.0        3.878703e+07\n",
       "...          ...         ...        ...         ...                 ...\n",
       "1863        1863  2019-05-27  603019.SH   5025815.0        1.161657e+07\n",
       "1864        1864  2019-05-28  603019.SH   8540541.0        9.563376e+06\n",
       "1865        1865  2019-05-29  603019.SH   5770562.0        9.594306e+06\n",
       "1866        1866  2019-05-30  603019.SH   5809780.0        8.336060e+06\n",
       "1867        1867  2019-05-31  603019.SH   3694272.0        6.548808e+06\n",
       "\n",
       "[1868 rows x 5 columns]"
      ]
     },
     "execution_count": 3,
     "metadata": {},
     "output_type": "execute_result"
    }
   ],
   "source": [
    "a"
   ]
  },
  {
   "cell_type": "code",
   "execution_count": 14,
   "id": "13bf2384-76ea-4f83-9964-57d08a408d8d",
   "metadata": {},
   "outputs": [
    {
     "name": "stdout",
     "output_type": "stream",
     "text": [
      "(0, Unnamed: 0                     0\n",
      "date                  2019-05-07\n",
      "sym                    000001.SZ\n",
      "volume                26732606.0\n",
      "volume_prev_5d_avg    72690955.0\n",
      "Name: 0, dtype: object) \n",
      "\n",
      "<class 'str'>\n",
      "<class 'str'>\n",
      "<class 'float'>\n"
     ]
    }
   ],
   "source": [
    "for row in a.iterrows():\n",
    "    print(row, '\\n')\n",
    "    date = row[1]['date']\n",
    "    sym = row[1]['sym']\n",
    "    volume = row[1]['volume']\n",
    "    print(type(date))\n",
    "    print(type(sym))\n",
    "    print(type(volume))\n",
    "    break"
   ]
  },
  {
   "cell_type": "code",
   "execution_count": 16,
   "id": "160f6214-82b6-4b08-b85b-7334f44215a9",
   "metadata": {},
   "outputs": [
    {
     "name": "stdout",
     "output_type": "stream",
     "text": [
      "20190507\n"
     ]
    }
   ],
   "source": [
    "print(date.replace('-', ''))"
   ]
  }
 ],
 "metadata": {
  "kernelspec": {
   "display_name": "Python [conda env:py310]",
   "language": "python",
   "name": "conda-env-py310-py"
  },
  "language_info": {
   "codemirror_mode": {
    "name": "ipython",
    "version": 3
   },
   "file_extension": ".py",
   "mimetype": "text/x-python",
   "name": "python",
   "nbconvert_exporter": "python",
   "pygments_lexer": "ipython3",
   "version": "3.10.14"
  }
 },
 "nbformat": 4,
 "nbformat_minor": 5
}
